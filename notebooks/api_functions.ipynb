{
 "cells": [
  {
   "cell_type": "markdown",
   "id": "eff53872-8a45-470f-91ac-fcabdc3dbaaf",
   "metadata": {},
   "source": [
    "### imports and libraries"
   ]
  },
  {
   "cell_type": "code",
   "execution_count": 1,
   "id": "55a6aa32-28f4-4efb-b73c-e33e9ce1bf0f",
   "metadata": {},
   "outputs": [],
   "source": [
    "import matplotlib.pyplot as plt\n",
    "import numpy as np\n",
    "import pandas as pd\n",
    "import requests\n",
    "import time"
   ]
  },
  {
   "cell_type": "code",
   "execution_count": null,
   "id": "2b1b47f9-c3f7-4ecd-b7e1-e9248521ad31",
   "metadata": {},
   "outputs": [],
   "source": []
  },
  {
   "cell_type": "markdown",
   "id": "5beccfca-44b1-4bb8-930a-46139cf5c1b4",
   "metadata": {},
   "source": [
    "### API info"
   ]
  },
  {
   "cell_type": "markdown",
   "id": "bd09b4ed-f106-42fa-b47a-83d8bd460664",
   "metadata": {},
   "source": [
    "Insert your api key here from the EIA website (https://www.eia.gov/opendata/)."
   ]
  },
  {
   "cell_type": "code",
   "execution_count": 3,
   "id": "053715a7-280f-4af5-9698-2ba09a8e5104",
   "metadata": {},
   "outputs": [],
   "source": [
    "api_key= '' "
   ]
  },
  {
   "cell_type": "markdown",
   "id": "2ad8abe0-375e-427b-a712-6aa87907b232",
   "metadata": {},
   "source": [
    "Here is a list and dictionary of query codes that will be used in the API URL to get the appropriate energy,date value wanted for you problem. Can be edited however you wish. "
   ]
  },
  {
   "cell_type": "code",
   "execution_count": 5,
   "id": "74bb44f5-21a1-45d1-a252-a699d9bfcd50",
   "metadata": {},
   "outputs": [],
   "source": [
    "query_list= ['D', 'NG', 'NG.COL', 'NG.WAT', 'NG.NG', 'NG.NUC', 'NG.OTH', 'NG.OIL', \n",
    "              'NG.SUN', 'NG.WND', 'TI', 'DF']\n",
    "query_dict= {'D':'demand', 'NG':'net_generation', 'NG.COL':'coal', 'NG.WAT':'hydro', \n",
    "              'NG.NG':'natural_gas', 'NG.NUC':'nuclear', 'NG.OTH':'other', \n",
    "              'NG.OIL':'petroleum', 'NG.SUN':'solar', 'NG.WND':'wind', \n",
    "              'TI':'total_interchange', 'DF':'forecast'}"
   ]
  },
  {
   "cell_type": "markdown",
   "id": "f3c1061b-33cc-49e8-93e4-4c47e705a151",
   "metadata": {},
   "source": [
    "Here is a list of balancing authorities used in the API URL specifically for this project. Can be amended to include more balancing authorities you are interested in."
   ]
  },
  {
   "cell_type": "code",
   "execution_count": 51,
   "id": "b3571006-2c19-4d30-9a50-55c29a175467",
   "metadata": {},
   "outputs": [],
   "source": [
    "plant_list= ['ERCO', 'SCEG']"
   ]
  },
  {
   "cell_type": "code",
   "execution_count": null,
   "id": "54ff917a-1eb1-4d52-a84b-eaaa6949a117",
   "metadata": {
    "tags": []
   },
   "outputs": [],
   "source": []
  },
  {
   "cell_type": "markdown",
   "id": "7678981d-d62f-4f16-8f7d-1148553b511d",
   "metadata": {},
   "source": [
    "### functions"
   ]
  },
  {
   "cell_type": "markdown",
   "id": "335d540e-136e-4c7b-bd19-cba71f0f0f7e",
   "metadata": {},
   "source": [
    "Function to extract date and energy amount from the API URL and return as a dataframe."
   ]
  },
  {
   "cell_type": "code",
   "execution_count": 7,
   "id": "e0ff4206-efce-4e35-9c3b-dd776751cddc",
   "metadata": {},
   "outputs": [],
   "source": [
    "def extract_energy(res): \n",
    "    if res.status_code == 200:\n",
    "        ts= res.json()['series'][0]['data'] # location of information from json file\n",
    "        df= pd.DataFrame(ts)\n",
    "    return df"
   ]
  },
  {
   "cell_type": "markdown",
   "id": "d400eb9b-a337-4791-9976-e4ce98cfd9f7",
   "metadata": {},
   "source": [
    "Function to use the above extract_energy function to return a dataframe based upon your api_key, plant_list, and specific query"
   ]
  },
  {
   "cell_type": "code",
   "execution_count": 17,
   "id": "52ffbf29-faa7-458b-9a7f-418e91deae97",
   "metadata": {},
   "outputs": [],
   "source": [
    "def make_energy_df(api_key, plant_list, query):\n",
    "    # for plant in plant_list:\n",
    "    url= f'http://api.eia.gov/series/?api_key={api_key}&series_id=EBA.{plant}-ALL.{query}.HL'\n",
    "    res= requests.get(url)\n",
    "\n",
    "    if 'data' not in (res.json().keys()):       \n",
    "        energy_df= extract_energy(res)\n",
    "        return energy_df\n",
    "        \n",
    "    else:\n",
    "        return 'no data'"
   ]
  },
  {
   "cell_type": "code",
   "execution_count": null,
   "id": "2e14d3bd-423b-4094-9c3b-64ad3478827c",
   "metadata": {},
   "outputs": [],
   "source": []
  },
  {
   "cell_type": "markdown",
   "id": "b37b2e3b-82f0-45ce-a1f4-13cdeaedef34",
   "metadata": {},
   "source": [
    "### make energy dataframe"
   ]
  },
  {
   "cell_type": "markdown",
   "id": "16464608-bee4-49c5-998c-7b1acf443051",
   "metadata": {},
   "source": [
    "This for-loop aggregates all the dataframes created using the make_energy_df function over each query in the query_list and each plant in the plant_list. It then sorts the dataframe by plant and then by datetime."
   ]
  },
  {
   "cell_type": "code",
   "execution_count": 52,
   "id": "a5762092-2460-428c-ae87-4025fa32899e",
   "metadata": {},
   "outputs": [],
   "source": [
    "plant_energy= pd.DataFrame()\n",
    "for plant in plant_list:\n",
    "    energy= pd.DataFrame()\n",
    "    for query in query_list:\n",
    "        if query == 'D':\n",
    "            energy_df= make_energy_df(api_key, plant_list, query)\n",
    "            #energy_df['plant']= plant\n",
    "            energy= energy.append(energy_df, ignore_index= True)\n",
    "            energy.columns= ['datetime', 'demand']#, 'plant']\n",
    "            energy.set_index('datetime', inplace= True)\n",
    "    \n",
    "        else:\n",
    "            energy_df= make_energy_df(api_key, plant_list, query)\n",
    "            if 'no data' not in energy_df:\n",
    "            \n",
    "                energy_df.columns= ['datetime', query_dict[query]]\n",
    "                energy_df.set_index('datetime', inplace= True)\n",
    "        \n",
    "                energy= pd.merge(energy, energy_df[query_dict[query]], \n",
    "                                 on= 'datetime', how= 'outer')\n",
    "                energy['plant']= plant\n",
    "\n",
    "    plant_energy= plant_energy.append(energy)\n",
    "    \n",
    "    if len(plant_list) == 1:\n",
    "        plant_energy.sort_values('datetime', ascending= False, inplace= True)\n",
    "    else:\n",
    "        plant_energy.sort_values(['plant', 'datetime'], ascending= [True, False], inplace= True)\n"
   ]
  },
  {
   "cell_type": "markdown",
   "id": "35335de1-b763-4dd7-bc04-e49cc6628276",
   "metadata": {},
   "source": [
    "Saves dataframe to csv file. Can input your own title after '../data/' to make it more understandble for you. It is commented out to not unintentionally overwrite the csv file used for the analyses when this specific project occured."
   ]
  },
  {
   "cell_type": "code",
   "execution_count": 12,
   "id": "b186bff2-862b-4962-b67d-63e50ac4c19f",
   "metadata": {},
   "outputs": [],
   "source": [
    "# plant_energy.to_csv('../data/all_erco_energy_cst.csv')"
   ]
  },
  {
   "cell_type": "code",
   "execution_count": null,
   "id": "ef3638b9-ee84-4f84-b463-456e0c351349",
   "metadata": {},
   "outputs": [],
   "source": []
  }
 ],
 "metadata": {
  "kernelspec": {
   "display_name": "Python 3 (ipykernel)",
   "language": "python",
   "name": "python3"
  },
  "language_info": {
   "codemirror_mode": {
    "name": "ipython",
    "version": 3
   },
   "file_extension": ".py",
   "mimetype": "text/x-python",
   "name": "python",
   "nbconvert_exporter": "python",
   "pygments_lexer": "ipython3",
   "version": "3.9.7"
  }
 },
 "nbformat": 4,
 "nbformat_minor": 5
}
